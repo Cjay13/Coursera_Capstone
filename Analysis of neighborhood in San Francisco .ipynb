{
 "cells": [
  {
   "cell_type": "markdown",
   "metadata": {
    "collapsed": true
   },
   "source": [
    "# <center>Analysis of neighborhoods in San Francisco - Where to open a pizza place?</center>"
   ]
  },
  {
   "cell_type": "markdown",
   "metadata": {},
   "source": [
    "## Introduction "
   ]
  },
  {
   "cell_type": "markdown",
   "metadata": {},
   "source": [
    "San Francisco is one of the booming cities in US and one of the main tourists attractions. Each district of San Francisco carries its own unique and distinct culture. Thus it's quite hard for a new business to become successful and compete with already established restaurnts of various cusines and pizza being one of the main food in the US it's even harder for a new small pizza place to become successful. But if it is possible to anaylize the neighborhoods in San Francisco to find area where there is not much competition and high demand it'll be really useful for a newcomer to be successful. "
   ]
  },
  {
   "cell_type": "markdown",
   "metadata": {},
   "source": [
    "## Data Used for Analysis"
   ]
  },
  {
   "cell_type": "markdown",
   "metadata": {},
   "source": [
    "The dataset \"San Francisco Neighborhoods (Designated by SF Assoc. of Realtors)\" from https://geo.nyu.edu/ is used to gain information of neighborhoods and the district they belong along with the latitude and longitude of each neighborhood. The foursquare api is used to gain information on popular venues in the above neighborhoods."
   ]
  },
  {
   "cell_type": "code",
   "execution_count": null,
   "metadata": {},
   "outputs": [],
   "source": []
  }
 ],
 "metadata": {
  "kernelspec": {
   "display_name": "Python 3.6",
   "language": "python",
   "name": "python3"
  },
  "language_info": {
   "codemirror_mode": {
    "name": "ipython",
    "version": 3
   },
   "file_extension": ".py",
   "mimetype": "text/x-python",
   "name": "python",
   "nbconvert_exporter": "python",
   "pygments_lexer": "ipython3",
   "version": "3.6.9"
  }
 },
 "nbformat": 4,
 "nbformat_minor": 1
}
